{
 "cells": [
  {
   "cell_type": "markdown",
   "id": "342591ef",
   "metadata": {},
   "source": [
    "# I/O BASIC"
   ]
  },
  {
   "cell_type": "markdown",
   "id": "4b6adcc1",
   "metadata": {},
   "source": [
    "ACCESS MODES\n",
    "\n",
    "\n",
    "\"r\" - read...INPUT if the file exits--Gets data,    #(default mode)\n",
    "otherwise,gives errof-FileNotFoundsError\n",
    "\n",
    "read() -- takes the whole file data, at a time\n",
    "readline() -- takes 1 line at a time\n",
    "readlines() -- takes multiple lines at a time, returns as a LIST\n",
    "\n",
    "==========================================================================\n",
    "\n",
    "\"w\" - writing...\n",
    "if the file exits--overwites the values,\n",
    "otherwise, creates a new file\n",
    "\n",
    "    write(\"STRING\")-- one line at a time\n",
    "    writelines(S) -- multiple lines at a time.. LIST/TUPLE sequance type data\n",
    "\n",
    "\"a\" -- appending...\n",
    "if the file exits, ADDS to existing data\n",
    "Otherwise, creates a new file\n",
    "\n",
    "    write() -- one line at a time\n",
    "    writelines(S) -- multiple lines at a time.. LIST/sequance type data\n",
    "\n",
    "\n",
    "\"x\" -- exclusive creation...\n",
    "if the file exits, then shows FileExistsError\n",
    "Otherwise, creates a new file and WRITES\n",
    "    write() -- one line at a time\n",
    "    writelines(S) -- multiple lines at a time.. LIST/sequance type data"
   ]
  },
  {
   "cell_type": "markdown",
   "id": "6fcbc5d8",
   "metadata": {},
   "source": [
    "# READ"
   ]
  },
  {
   "cell_type": "code",
   "execution_count": 1,
   "id": "8afcb8f7",
   "metadata": {},
   "outputs": [
    {
     "name": "stdout",
     "output_type": "stream",
     "text": [
      "file_handler <_io.TextIOWrapper name='Assignment_8 example.txt' mode='r' encoding='cp1252'>\n",
      "List 1\n",
      "List 2\n",
      "List 3\n",
      "List 4\n",
      "List 5\n",
      "List 6\n",
      "List 7\n",
      "List 8\n"
     ]
    }
   ],
   "source": [
    "file_handler = open(file = \"Assignment_8 example.txt\", mode = \"r\")\n",
    "print(\"file_handler\", file_handler)\n",
    "\n",
    "print(file_handler.read())"
   ]
  },
  {
   "cell_type": "code",
   "execution_count": 3,
   "id": "c6731cd8",
   "metadata": {},
   "outputs": [
    {
     "name": "stdout",
     "output_type": "stream",
     "text": [
      "List 1\n",
      "List 2\n",
      "Lis"
     ]
    }
   ],
   "source": [
    "file_handler = open(file = \"Assignment_8 example.txt\", mode = \"r\")\n",
    "#print(\"file_handler\", file_handler)\n",
    "\n",
    "#print(file_handler.read())\n",
    "print(file_handler.readline(), end=\"\")\n",
    "print(file_handler.readline(), end=\"\")\n",
    "print(file_handler.readline(3), end=\"\")"
   ]
  },
  {
   "cell_type": "code",
   "execution_count": 4,
   "id": "f8bc993a",
   "metadata": {},
   "outputs": [
    {
     "name": "stdout",
     "output_type": "stream",
     "text": [
      "file_handler <_io.TextIOWrapper name='Assignment_8 example.txt' mode='r' encoding='cp1252'>\n",
      "['List 1\\n', 'List 2\\n', 'List 3\\n', 'List 4\\n', 'List 5\\n', 'List 6\\n', 'List 7\\n', 'List 8']\n"
     ]
    }
   ],
   "source": [
    "file_handler = open(file = \"Assignment_8 example.txt\", mode = \"r\")\n",
    "print(\"file_handler\", file_handler)\n",
    "\n",
    "print(file_handler.readlines())"
   ]
  },
  {
   "cell_type": "code",
   "execution_count": 14,
   "id": "fc2d199f",
   "metadata": {},
   "outputs": [
    {
     "name": "stdout",
     "output_type": "stream",
     "text": [
      "List 1\n",
      "List 2\n",
      "List 3\n",
      "List 4\n",
      "List 5\n",
      "List 6\n",
      "List 7\n",
      "List 8\n",
      "STRING 1\n",
      "STRING 2\n",
      "STRING 3\n",
      "STRING 4\n"
     ]
    }
   ],
   "source": [
    "file_handler = open(file = \"Assignment_8 example.txt\", mode = \"r\")\n",
    "#print(\"file_handler\", file_handler)\n",
    "\n",
    "lines = file_handler.readlines()\n",
    "#print(lines)\n",
    "\n",
    "for line in lines:\n",
    "    print(line.strip())\n",
    "#    print(line, end = \"\")\n",
    "\n",
    "file_handler.close()"
   ]
  },
  {
   "cell_type": "markdown",
   "id": "b4b4bbcb",
   "metadata": {},
   "source": [
    "# WRITE"
   ]
  },
  {
   "cell_type": "code",
   "execution_count": 18,
   "id": "3ff94e75",
   "metadata": {},
   "outputs": [
    {
     "name": "stdout",
     "output_type": "stream",
     "text": [
      "file_handler <_io.TextIOWrapper name='Assignment_8 example w.txt' mode='w' encoding='cp1252'>\n"
     ]
    }
   ],
   "source": [
    "file_handler = open(file = \"Assignment_8 example w.txt\", mode = \"w\")\n",
    "print(\"file_handler\", file_handler)\n",
    "\n",
    "file_handler.write(\"ABCDE\\n\")\n",
    "file_handler.write(\"fadssldfjlsdf\\n\")\n",
    "file_handler.write(\"134343E\")\n",
    "file_handler.close()"
   ]
  },
  {
   "cell_type": "code",
   "execution_count": 26,
   "id": "f4139d60",
   "metadata": {},
   "outputs": [
    {
     "name": "stdout",
     "output_type": "stream",
     "text": [
      "file_handler <_io.TextIOWrapper name='Assignment_8 example wcreated.txt' mode='w' encoding='cp1252'>\n"
     ]
    }
   ],
   "source": [
    "file_handler = open(file = \"Assignment_8 example wcreated.txt\", mode = \"w\")\n",
    "print(\"file_handler\", file_handler)\n",
    "\n",
    "lines = [\"cha\\n\", \"biscuit\\n\", \"bread\\n\", \"butter\\n\"]   #list\n",
    "lines2 = (\"biscuit\\n\", \"bread\\n\", \"butter\\n\")   #tuple\n",
    "file_handler.writelines(lines)\n",
    "file_handler.writelines(lines2)\n",
    "\n",
    "file_handler.close()"
   ]
  },
  {
   "cell_type": "markdown",
   "id": "d6a25fa5",
   "metadata": {},
   "source": [
    "# Appending"
   ]
  },
  {
   "cell_type": "code",
   "execution_count": 25,
   "id": "f37446f6",
   "metadata": {},
   "outputs": [
    {
     "name": "stdout",
     "output_type": "stream",
     "text": [
      "file_handler <_io.TextIOWrapper name='Assignment_8 example acreated.txt' mode='a' encoding='cp1252'>\n"
     ]
    }
   ],
   "source": [
    "file_handler = open(file = \"Assignment_8 example acreated.txt\", mode = \"a\")\n",
    "print(\"file_handler\", file_handler)\n",
    "\n",
    "lines = [\"dim\\n\", \"murgi\\n\", \"goru\\n\", \"khashi\\n\"]   #list\n",
    "lines2 = (\"biscuit\\n\", \"bread\\n\", \"butter\\n\")   #tuple\n",
    "file_handler.writelines(lines)\n",
    "file_handler.writelines(lines2)\n",
    "\n",
    "file_handler.close()"
   ]
  },
  {
   "cell_type": "code",
   "execution_count": 28,
   "id": "ab514188",
   "metadata": {},
   "outputs": [
    {
     "name": "stdout",
     "output_type": "stream",
     "text": [
      "file_handler <_io.TextIOWrapper name='E:\\\\Study\\\\BRACU\\\\CSE110\\\\code\\\\made up directory\\\\Assignment_8 example a dircreated.txt' mode='a' encoding='cp1252'>\n"
     ]
    }
   ],
   "source": [
    "file_handler = open(file = \"E:\\\\Study\\\\BRACU\\\\CSE110\\\\code\\\\made up directory\\\\Assignment_8 example a dircreated.txt\", mode = \"a\")\n",
    "print(\"file_handler\", file_handler)\n",
    "\n",
    "lines = [\"dim\\n\", \"murgi\\n\", \"goru\\n\", \"khashi\\n\"]   #list\n",
    "lines2 = (\"biscuit\\n\", \"bread\\n\", \"butter\\n\")   #tuple\n",
    "file_handler.writelines(lines)\n",
    "file_handler.writelines(lines2)\n",
    "\n",
    "file_handler.close()"
   ]
  }
 ],
 "metadata": {
  "kernelspec": {
   "display_name": "Python 3 (ipykernel)",
   "language": "python",
   "name": "python3"
  },
  "language_info": {
   "codemirror_mode": {
    "name": "ipython",
    "version": 3
   },
   "file_extension": ".py",
   "mimetype": "text/x-python",
   "name": "python",
   "nbconvert_exporter": "python",
   "pygments_lexer": "ipython3",
   "version": "3.9.7"
  }
 },
 "nbformat": 4,
 "nbformat_minor": 5
}
