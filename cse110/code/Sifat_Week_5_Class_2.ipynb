{
  "nbformat": 4,
  "nbformat_minor": 0,
  "metadata": {
    "colab": {
      "name": "Sifat_Week_5_Class_2",
      "provenance": []
    },
    "kernelspec": {
      "name": "python3",
      "display_name": "Python 3"
    },
    "language_info": {
      "name": "python"
    }
  },
  "cells": [
    {
      "cell_type": "markdown",
      "metadata": {
        "id": "hbkbfFMuTcoo"
      },
      "source": [
        "#Task 0: Lab Assignment 3 - Task 15\n",
        "\n",
        "Write a python program thats prints the largest consecutive sequence from a given string S. For example, if S = ‘AABBBCCAAAA’, print ‘AAAA’. If more than one largest consecutive sequence exists, print the first one. Print NONE if no consecutive sequence is found.\n",
        "\n",
        "=====================================================================\n",
        "\n",
        "**Sample Input 1:**<br/>\n",
        "AABBBCCAAAA<br/>\n",
        "**Sample Output 1:**<br/>\n",
        "AAAA<br/>\n",
        "\n",
        "=====================================================================\n",
        "\n",
        "**Sample Input 2:**<br/>\n",
        "AABBCC<br/>\n",
        "**Sample Output 2:**<br/>\n",
        "AA<br/>\n",
        "\n",
        "=====================================================================\n",
        "\n",
        "**Sample Input 3:**<br/>\n",
        "ABCD<br/>\n",
        "**Sample Output 3:**<br/>\n",
        "NONE<br/>\n",
        "\n",
        "====================================================================="
      ]
    },
    {
      "cell_type": "code",
      "metadata": {
        "colab": {
          "base_uri": "https://localhost:8080/"
        },
        "id": "8Sj88iy5RtsF",
        "outputId": "d9eb42e3-fd50-451f-c4c2-3af2ebc336f9"
      },
      "source": [
        "word = input()\n",
        "largest= word[0] #AAAA\n",
        "consecutive= word[0] #AAAA\n",
        "\n",
        "for i in range(1, len(word)):\n",
        "  \n",
        "  if(consecutive[-1]==word[i]): \n",
        "    consecutive+=word[i]\n",
        "  else:\n",
        "    consecutive= word[i]\n",
        "  \n",
        "  if(len(consecutive)>len(largest)):\n",
        "    largest= consecutive\n",
        "\n",
        "if(len(largest)>1):\n",
        "  print(largest)\n",
        "else:\n",
        "  print(\"NONE\")"
      ],
      "execution_count": null,
      "outputs": [
        {
          "output_type": "stream",
          "name": "stdout",
          "text": [
            "AABBBCCAAAA\n",
            "AAAA\n"
          ]
        }
      ]
    },
    {
      "cell_type": "code",
      "metadata": {
        "colab": {
          "base_uri": "https://localhost:8080/"
        },
        "id": "ix3FMVeogcVE",
        "outputId": "d9e43fd6-b23d-4b39-a4fc-cee1a1509032"
      },
      "source": [
        "s = input(\"Enter a string:\")\n",
        "count = 1\n",
        "largecount = count\n",
        "new=\"\"\n",
        "for char in s:\n",
        "    if (count > largecount):\n",
        "        largecount = count\n",
        "        new=(char*largecount)\n",
        "    elif ( largecount==1):\n",
        "        new=new+char\n",
        "    \n",
        "    elif(count==largecount):\n",
        "        pass\n",
        "\n",
        "\n",
        "    i = s.find(char)\n",
        "    count = 1\n",
        "    for i in range(i, len(s) - 1):\n",
        "\n",
        "        if (s[i] == s[i + 1]):\n",
        "            count += 1\n",
        "\n",
        "        else:\n",
        "            break\n",
        "\n",
        "if(new==s):\n",
        "  print(\"NONE\")\n",
        "else: \n",
        "  print(new)"
      ],
      "execution_count": null,
      "outputs": [
        {
          "output_type": "stream",
          "name": "stdout",
          "text": [
            "Enter a string:AABBBCCAAAA\n",
            "BBB\n"
          ]
        }
      ]
    },
    {
      "cell_type": "markdown",
      "metadata": {
        "id": "UctWTrFgbj4y"
      },
      "source": [
        "#Task 1\n",
        "Merge the following lists to create the resultant list accordingly\n",
        "\n",
        "**Sample input 1:**\n",
        "\n",
        "L1 = [1,2,3,4,5,6,7]\n",
        "\n",
        "L2 = [A,B,C,D]\n",
        "\n",
        "**Output:**\n",
        "\n",
        "L12 = [1,2,A,3,4,B,5,6,C,7,D]\n",
        "\n",
        "**Sample input 2:**\n",
        "\n",
        "L1 = [1,2,3,4]\n",
        "\n",
        "L2 = [A,B,C,D]\n",
        "\n",
        "**Output:**\n",
        "\n",
        "L12 = [1,2,A,3,4,B,C,D]\n",
        "\n",
        "**Sample input 3:**\n",
        "\n",
        "L1 = [1,2,3,4,5,6,7,8]\n",
        "\n",
        "L2 = [A,B]\n",
        "\n",
        "**Output:**\n",
        "\n",
        "L12 = [1,2,A,3,4,B,5,6,7,8]"
      ]
    },
    {
      "cell_type": "code",
      "metadata": {
        "colab": {
          "base_uri": "https://localhost:8080/"
        },
        "id": "jwMJFSu_b9XI",
        "outputId": "3a52c71f-8bb4-42c3-eb00-aa756dfa331c"
      },
      "source": [
        "L1 = [1,2,3,4,5,6,7]\n",
        "\n",
        "L2 = [\"A\",\"B\",\"C\",\"D\"]\n",
        "\n",
        "L12=[] #1 2 A\n",
        "\n",
        "\n",
        "while (True):\n",
        "\n",
        "  if(len(L1)==0 and len(L2)==0):\n",
        "    break\n",
        "  \n",
        "  if(len(L1)>0):\n",
        "    L12.append(L1[0])\n",
        "    L1.pop(0)\n",
        "  if(len(L1)>0):\n",
        "    L12.append(L1[0])\n",
        "    L1.pop(0)\n",
        "  if(len(L2)>0):\n",
        "    L12.append(L2[0])\n",
        "    L2.pop(0)\n",
        "\n",
        "  \n",
        "print(L12)"
      ],
      "execution_count": null,
      "outputs": [
        {
          "output_type": "stream",
          "name": "stdout",
          "text": [
            "[1, 2, 'A', 3, 4, 'B', 5, 6, 'C', 7, 'D']\n"
          ]
        }
      ]
    },
    {
      "cell_type": "markdown",
      "metadata": {
        "id": "v1I41cykb9ma"
      },
      "source": [
        "#Task 2\n",
        "Take two lists and create a SET Intersection\n",
        "\n",
        "Sample input 1:\n",
        "\n",
        "L1 = [1, 5, 3]\n",
        "\n",
        "L2 = [2, 5, 4]\n",
        "\n",
        "Output:\n",
        "\n",
        "L12 = [5]\n",
        "\n",
        "Sample input 2:\n",
        "\n",
        "L1 = [1, 6, 3]\n",
        "\n",
        "L2 = [2, 5, 4]\n",
        "\n",
        "Output:\n",
        "\n",
        "L12 = []"
      ]
    },
    {
      "cell_type": "code",
      "metadata": {
        "id": "6G4fQuJdcE55"
      },
      "source": [
        "L1 = [1, 5, 3]\n",
        "L2 = [2, 5, 4]\n",
        "\n",
        "L12= []\n",
        "\n",
        "for i in L1:\n",
        "  if(L2.count(i)>0):\n",
        "    L12.append(i)\n",
        "\n",
        "L12.sort()\n",
        "print(L12)"
      ],
      "execution_count": null,
      "outputs": []
    },
    {
      "cell_type": "markdown",
      "metadata": {
        "id": "_RJGKf0eVgcL"
      },
      "source": [
        "#Task 3\n",
        "Write a python program that reads a string from the user and prints only the digits inside the string.\n",
        "\n",
        "Sample Input:\n",
        "\n",
        "hbf8a347ifbv\n",
        "\n",
        "Output:\n",
        "\n",
        "8347"
      ]
    },
    {
      "cell_type": "code",
      "metadata": {
        "colab": {
          "base_uri": "https://localhost:8080/"
        },
        "id": "xEDawXNuW4xd",
        "outputId": "c0fdfa04-ed2a-44de-a7b7-d07e6f323078"
      },
      "source": [
        "word= input()\n",
        "digit= ['0','1','2','3','4','5','6','7','8','9']\n",
        "\n",
        "for i in word:\n",
        "  if (digit.count(i)>0):\n",
        "    print(i, end=\"\")\n",
        "\n"
      ],
      "execution_count": null,
      "outputs": [
        {
          "output_type": "stream",
          "name": "stdout",
          "text": [
            "hbf8a347ifbv\n",
            "8347"
          ]
        }
      ]
    },
    {
      "cell_type": "code",
      "metadata": {
        "colab": {
          "base_uri": "https://localhost:8080/"
        },
        "id": "AKeG9Rinnsgh",
        "outputId": "db79c4cc-f57c-41cb-aec2-1ace2d017a97"
      },
      "source": [
        "word= input()\n",
        "\n",
        "for i in word:\n",
        "  j= ord(i)\n",
        "  if (j>=48 and j<=57):\n",
        "    print(i,end=\"\")"
      ],
      "execution_count": null,
      "outputs": [
        {
          "output_type": "stream",
          "name": "stdout",
          "text": [
            "hbf8a347ifbv\n",
            "8347"
          ]
        }
      ]
    },
    {
      "cell_type": "markdown",
      "metadata": {
        "id": "9vN0h695W4-P"
      },
      "source": [
        "# Task 4\n",
        "\n",
        "Write a Python program that takes a list A and a number as input from the user. Create a list by concatenating the input list which range goes from 1 to n.\n",
        "\n",
        "Sample input1:\n",
        "\n",
        "A = ['p', 'q']\n",
        "\n",
        "N = 5  \n",
        "Sample Output1:\n",
        "\n",
        "['p1', 'q1', 'p2', 'q2', 'p3', 'q3', 'p4', 'q4', 'p5', 'q5']\n",
        "\n",
        "Sample input2:\n",
        "\n",
        "A = ['p', 'q', 'r']\n",
        "\n",
        "N = 3\n",
        "\n",
        "Sample Output2:\n",
        "\n",
        "['p1', 'q1', 'r1', 'p2', 'q2', 'r2', 'p3', 'q3', 'r3']\n",
        "\n",
        "Sample input3:\n",
        "\n",
        "A = ['p', 'q', 'r','s']\n",
        "\n",
        "N = 2\n",
        "\n",
        "Sample Output3:\n",
        "\n",
        "['p1', 'q1', 'r1', 's1', 'p2', 'q2', 'r2', 's2']\n"
      ]
    },
    {
      "cell_type": "code",
      "metadata": {
        "colab": {
          "base_uri": "https://localhost:8080/"
        },
        "id": "nqflZoxRX6fj",
        "outputId": "2003aeca-7a13-41e8-d110-8a3d812f76d6"
      },
      "source": [
        "A= input().split(\",\")\n",
        "\n",
        "N= int(input())\n",
        "\n",
        "result=[]\n",
        "elem=\"\"\n",
        "j=1\n",
        "\n",
        "for i in A:\n",
        "  for i in A:\n",
        "    elem= i+str(j)\n",
        "    result.append(elem)\n",
        "  j+=1\n",
        "\n",
        "print(result)"
      ],
      "execution_count": null,
      "outputs": [
        {
          "output_type": "stream",
          "name": "stdout",
          "text": [
            "a,b,c,d,e\n",
            "5\n",
            "['a1', 'b1', 'c1', 'd1', 'e1', 'a2', 'b2', 'c2', 'd2', 'e2', 'a3', 'b3', 'c3', 'd3', 'e3', 'a4', 'b4', 'c4', 'd4', 'e4', 'a5', 'b5', 'c5', 'd5', 'e5']\n"
          ]
        }
      ]
    },
    {
      "cell_type": "markdown",
      "metadata": {
        "id": "hOh1rjkaX6zx"
      },
      "source": [
        "#Task 5\n",
        "Write a Python program that takes a list from the user. Then finds the first even and the last odd number in the list.\n",
        "\n",
        "Sample Input1: \n",
        "\n",
        "[1, 3, 5, 7, 4, 1, 6, 8]\n",
        "\n",
        "Sample Output1: \n",
        "\n",
        "First even: 4 and Last odd:1\n",
        "\n",
        "Sample Input2: \n",
        "\n",
        "[55, 5, 7, 9, 11]\n",
        "\n",
        "Sample Output2: \n",
        "\n",
        "First even: not found and Last odd: 55\n"
      ]
    },
    {
      "cell_type": "code",
      "metadata": {
        "colab": {
          "base_uri": "https://localhost:8080/"
        },
        "id": "rFQ4fWpHYuKQ",
        "outputId": "f961eec5-0627-4848-c865-8a7c3e4cfca4"
      },
      "source": [
        "A= input().split(\",\")\n",
        "\n",
        "for i in A:\n",
        "  i= int(i)\n",
        "  if (i%2==0):\n",
        "    print(\"First even:\",i,end=\" \")\n",
        "    break\n",
        "\n",
        "print(\"and First even: Not Found\")\n",
        "\n",
        "for i in range (len(A)-1,0,-1):\n",
        "  p= int(A[i])\n",
        "  if (p%2==1):\n",
        "    print(\"and Last odd: \",p)\n",
        "    break\n",
        "\n",
        "print(\"and Last odd: Not Found\")"
      ],
      "execution_count": null,
      "outputs": [
        {
          "output_type": "stream",
          "name": "stdout",
          "text": [
            "55, 5, 7, 9, 11\n",
            "and First even: Not Found\n",
            "and First even: Not Found\n",
            "and First even: Not Found\n",
            "and First even: Not Found\n",
            "and First even: Not Found\n",
            "and Last odd:  11\n"
          ]
        }
      ]
    },
    {
      "cell_type": "markdown",
      "metadata": {
        "id": "ABeKqjm7ZGX_"
      },
      "source": [
        "#Task 6\n",
        "\n",
        "Write a Python program that reads a number and finds the sum of the series of  1 +11 + 111 + 1111 + ….+N terms.\n",
        "\n",
        "Sample Input1: \n",
        "\n",
        "5\n",
        "\n",
        "Sample Output1:\n",
        "\n",
        "1 + 11 + 111 + 1111 + 11111\n",
        "\n",
        "The Sum is: 1234\n",
        "\n",
        "Sample Input2: \n",
        "\n",
        "8\n",
        "\n",
        "Sample Output2:\n",
        "\n",
        "1 + 11 + 111 + 1111 + 11111 + 111111 + 1111111 + 11111111 \n",
        "\n",
        "The Sum is: 12345678\n",
        "\n"
      ]
    },
    {
      "cell_type": "code",
      "metadata": {
        "id": "CFBj5S0mZQZ-"
      },
      "source": [
        ""
      ],
      "execution_count": null,
      "outputs": []
    },
    {
      "cell_type": "markdown",
      "metadata": {
        "id": "prvLuegqaA59"
      },
      "source": [
        "#Task 7\n",
        "\n",
        "Write a Python program that takes two strings from the user. Then remove characters from the first string which are present in the second string. [you are not allowed to use  replace() ]\n",
        "\n",
        "**Sample Input1:**\n",
        "\n",
        "First String: India is great\n",
        "\n",
        "Second String: is\n",
        "\n",
        "**Sample Output1:**\n",
        "\n",
        "nda  great\n",
        "\n",
        "**Sample Input2:**\n",
        "\n",
        "First String: this is cse110 course and we love it\n",
        "\n",
        "Second String: 1iaolv\n",
        "\n",
        "**Sample Output2:**\n",
        "\n",
        "ths s cse0 curse nd we e t"
      ]
    },
    {
      "cell_type": "code",
      "metadata": {
        "id": "ZuoXIdoEa6dc"
      },
      "source": [
        ""
      ],
      "execution_count": null,
      "outputs": []
    }
  ]
}