{
  "nbformat": 4,
  "nbformat_minor": 0,
  "metadata": {
    "colab": {
      "name": "Contest/Assignment Solutions.ipynb",
      "provenance": []
    },
    "kernelspec": {
      "name": "python3",
      "display_name": "Python 3"
    },
    "language_info": {
      "name": "python"
    }
  },
  "cells": [
    {
      "cell_type": "markdown",
      "metadata": {
        "id": "37A_PiZSj4N6"
      },
      "source": [
        "#Problem 1\n",
        "Read a number from the user, and print all the prime numbers up to that number.\n",
        "\n",
        "Sample input: \n",
        "\n",
        "40 \n",
        "\n",
        "Output: \n",
        "\n",
        "Prime Numbers:\n",
        "\n",
        "2\n",
        "\n",
        "3\n",
        "\n",
        "5\n",
        "\n",
        "7\n",
        "\n",
        "11\n",
        "\n",
        "13\n",
        "\n",
        "17\n",
        "\n",
        "19\n",
        "\n",
        "23\n",
        "\n",
        "29\n",
        "\n",
        "31\n",
        "\n",
        "37\n"
      ]
    },
    {
      "cell_type": "code",
      "metadata": {
        "id": "vAYV7J0XjvWE",
        "colab": {
          "base_uri": "https://localhost:8080/"
        },
        "outputId": "34fd6a25-57a1-43a6-c2a8-f46da547b5e5"
      },
      "source": [
        "num = int(input())\n",
        "no_of_divisors=0\n",
        "print(\"Prime Numbers:\")\n",
        "\n",
        "for i in range (1, num+1, 1):\n",
        "\n",
        "  for j in range (1, i+1, 1):\n",
        "    if(i%j==0):\n",
        "      no_of_divisors+=1\n",
        "  \n",
        "  if(no_of_divisors==2):\n",
        "    print(i)\n",
        "  no_of_divisors=0\n",
        "  "
      ],
      "execution_count": null,
      "outputs": [
        {
          "output_type": "stream",
          "name": "stdout",
          "text": [
            "40\n",
            "Prime Numbers:\n",
            "2\n",
            "3\n",
            "5\n",
            "7\n",
            "11\n",
            "13\n",
            "17\n",
            "19\n",
            "23\n",
            "29\n",
            "31\n",
            "37\n"
          ]
        }
      ]
    },
    {
      "cell_type": "markdown",
      "metadata": {
        "id": "MwU6JPEVkPs4"
      },
      "source": [
        "#Problem 2\n",
        "\n",
        "Read a number from the user, and print all the perfect numbers up to that number.\n",
        "\n",
        "Sample input: \n",
        "\n",
        "500 \n",
        "\n",
        "Output: \n",
        "\n",
        "6\n",
        "\n",
        "28\n",
        "\n",
        "496\n"
      ]
    },
    {
      "cell_type": "code",
      "metadata": {
        "id": "-Wp3pJ76kXrJ",
        "colab": {
          "base_uri": "https://localhost:8080/"
        },
        "outputId": "38e44152-06d1-47f6-d6ad-21720dac0416"
      },
      "source": [
        "num = int(input())\n",
        "sum_of_divisors=0\n",
        "print(\"Perfect Numbers:\")\n",
        "\n",
        "for i in range (1, num+1, 1):\n",
        "\n",
        "  for j in range (1, i, 1):\n",
        "    if(i%j==0):\n",
        "      sum_of_divisors+=j\n",
        "  \n",
        "  if(sum_of_divisors==i):\n",
        "    print(i)\n",
        "  sum_of_divisors=0"
      ],
      "execution_count": null,
      "outputs": [
        {
          "output_type": "stream",
          "name": "stdout",
          "text": [
            "500\n",
            "Prime Numbers:\n",
            "6\n",
            "28\n",
            "496\n"
          ]
        }
      ]
    },
    {
      "cell_type": "markdown",
      "metadata": {
        "id": "NS-0L8TykX4h"
      },
      "source": [
        "#Problem 3\n",
        "Read the value of n from the user and compute the value of the following series:\n",
        "\n",
        "result = 1^3 - 2^3 + 3^3 - 4^3 + ...... n^3 (Here ^ indicates power)\n",
        "\n",
        "Sample input: 3 | Sample Output: 20\n",
        "\n",
        "Sample input: 6 | Sample Output: -135\n",
        "\n"
      ]
    },
    {
      "cell_type": "code",
      "metadata": {
        "id": "x2R0IF6QkrDe",
        "colab": {
          "base_uri": "https://localhost:8080/"
        },
        "outputId": "96059158-753e-452d-f74b-34598e69acb1"
      },
      "source": [
        "n= int(input())\n",
        "result=0\n",
        "for i in range (1, n+1 , 1):\n",
        "  if (i%2!=0):\n",
        "    result+=i**3\n",
        "  else:\n",
        "    result-=i**3\n",
        "\n",
        "print(result)"
      ],
      "execution_count": null,
      "outputs": [
        {
          "output_type": "stream",
          "name": "stdout",
          "text": [
            "6\n",
            "-135\n"
          ]
        }
      ]
    },
    {
      "cell_type": "markdown",
      "metadata": {
        "id": "j8I-6Xghk1LT"
      },
      "source": [
        "#Problem 4\n",
        "Read a number (1-9) from the user and print the sequence. You have to identify the pattern using the sample inputs and outputs. Assume that the user will not input any invalid number.\n",
        "\n",
        "Sample input 1: \n",
        "\n",
        "4\n",
        "\n",
        "Output: \n",
        "\n",
        "1234321\n",
        "\n",
        "Sample input 2: \n",
        "\n",
        "8\n",
        "\n",
        "Output: \n",
        "\n",
        "123456787654321\n",
        "\n",
        "Sample input 3: \n",
        "\n",
        "1\n",
        "\n",
        "Output: \n",
        "\n",
        "1\n"
      ]
    },
    {
      "cell_type": "code",
      "metadata": {
        "colab": {
          "base_uri": "https://localhost:8080/"
        },
        "id": "e2lrwdpAlCZB",
        "outputId": "a8c81f47-69c3-4e5a-e833-9d7db03ff2c3"
      },
      "source": [
        "num= int(input())\n",
        "if(num>=1 or num<=9):\n",
        "  \n",
        "  for i in range (1, num, 1):\n",
        "    print(i, end=\"\")\n",
        "  for i in range (num, 0, -1):\n",
        "    print(i, end=\"\")\n",
        "\n",
        "else:\n",
        "  print(\"Invalid Number\")"
      ],
      "execution_count": null,
      "outputs": [
        {
          "output_type": "stream",
          "name": "stdout",
          "text": [
            "9\n",
            "12345678987654321"
          ]
        }
      ]
    },
    {
      "cell_type": "markdown",
      "metadata": {
        "id": "UKEFdn-Kllrf"
      },
      "source": [
        "#Problem 5\n",
        "Read the value n from the user, and print the first nth Fibonacci numbers. \n",
        "\n",
        "Sample input: \n",
        "\n",
        "9 \n",
        "\n",
        "Sample Output: \n",
        "\n",
        "0\n",
        "\n",
        "1\n",
        "\n",
        "1\n",
        "\n",
        "2\n",
        "\n",
        "3\n",
        "\n",
        "5\n",
        "\n",
        "8\n",
        "\n",
        "13\n",
        "\n",
        "21\n"
      ]
    },
    {
      "cell_type": "code",
      "metadata": {
        "colab": {
          "base_uri": "https://localhost:8080/"
        },
        "id": "f5YtSqzEl3-0",
        "outputId": "cb15fa64-af8b-4b0e-ae51-274c9f1d25b0"
      },
      "source": [
        "num= int(input())\n",
        "\n",
        "\n",
        "p=0\n",
        "q=1\n",
        "\n",
        "print(p)\n",
        "print(q)\n",
        "\n",
        "for i in range(1, num-1, 1):\n",
        "  r= p+q\n",
        "  #if (r>=15):\n",
        "  #  break\n",
        "  print(r)\n",
        "  p=q\n",
        "  q=r"
      ],
      "execution_count": null,
      "outputs": [
        {
          "output_type": "stream",
          "name": "stdout",
          "text": [
            "15\n",
            "0\n",
            "1\n",
            "1\n",
            "2\n",
            "3\n",
            "5\n",
            "8\n",
            "13\n"
          ]
        }
      ]
    },
    {
      "cell_type": "markdown",
      "metadata": {
        "id": "g9dJS6lAmezy"
      },
      "source": [
        "#Problem 6\n",
        "Read the value of n from the user and compute the value of the following series:\n",
        "\n",
        "result = (1^1)/1 + (2^2)/2 + (3^3)/3 + (4^4)/4 + ...... +(n^n)/n \n",
        "(Here ^ indicates power)\n",
        "\n",
        "Sample input: 3 | Sample Output: 12\n",
        "\n",
        "Sample input: 5 | Sample Output: 201\n"
      ]
    },
    {
      "cell_type": "code",
      "metadata": {
        "colab": {
          "base_uri": "https://localhost:8080/"
        },
        "id": "WTvqH2UBmuU7",
        "outputId": "111a984d-9a0d-41d4-c708-5bc04814f38c"
      },
      "source": [
        "num= int(input())\n",
        "result=0\n",
        "\n",
        "for i in range (1, num+1, 1):\n",
        "  result+=(i**i)//i\n",
        "\n",
        "print(result)"
      ],
      "execution_count": null,
      "outputs": [
        {
          "output_type": "stream",
          "name": "stdout",
          "text": [
            "5\n",
            "701\n"
          ]
        }
      ]
    },
    {
      "cell_type": "markdown",
      "metadata": {
        "id": "nh__gYpJnMkz"
      },
      "source": [
        "#Problem 7\n",
        "Take two-year inputs from the user (Lower bound and upper bound). Print all the years that are leap years within that range (inclusive).\n",
        "\n",
        "Sample input: \n",
        "\n",
        "lower_bound= 1980\n",
        "\n",
        "upper_bound= 2020\n",
        "\n",
        "Sample Output:\n",
        "\n",
        "1980\n",
        "\n",
        "1984\n",
        "\n",
        "1988\n",
        "\n",
        "1992\n",
        "\n",
        "1996\n",
        "\n",
        "2000\n",
        "\n",
        "2004\n",
        "\n",
        "2008\n",
        "\n",
        "2012\n",
        "\n",
        "2016\n",
        "\n",
        "2020\n",
        "\n",
        "\n",
        "\n",
        "[Hint: To determine whether a year is a leap year, follow these steps:\n",
        "\n",
        "1. If the year is evenly divisible by 4, go to step 2. Otherwise, go to step 5.\n",
        "2. If the year is evenly divisible by 100, go to step 3. Otherwise, go to step 4.\n",
        "3. If the year is evenly divisible by 400, go to step 4. Otherwise, go to step 5. \n",
        "4. The year is a leap year (it has 366 days).\n",
        "5. The year is not a leap year (it has 365 days).]\n"
      ]
    },
    {
      "cell_type": "code",
      "metadata": {
        "id": "bG2m_YHanaPE",
        "colab": {
          "base_uri": "https://localhost:8080/"
        },
        "outputId": "d74e3872-d793-47e1-f3b8-7ab4a8a06391"
      },
      "source": [
        "lower_bound= int(input())\n",
        "upper_bound= int(input())\n",
        "\n",
        "for i in range (lower_bound, upper_bound+1, 1):\n",
        "\n",
        "  if (i%4==0): #if year is century\n",
        "    if (i%100==0):\n",
        "      if (i%400==0):\n",
        "        print(i)\n",
        "    else:\n",
        "      print(i)"
      ],
      "execution_count": null,
      "outputs": [
        {
          "output_type": "stream",
          "name": "stdout",
          "text": [
            "1980\n",
            "2021\n",
            "1980\n",
            "1984\n",
            "1988\n",
            "1992\n",
            "1996\n",
            "2000\n",
            "2004\n",
            "2008\n",
            "2012\n",
            "2016\n",
            "2020\n"
          ]
        }
      ]
    },
    {
      "cell_type": "code",
      "metadata": {
        "colab": {
          "base_uri": "https://localhost:8080/"
        },
        "id": "IXylxBf5hN8p",
        "outputId": "d6b32227-e2f4-47ea-d42e-616491c55e83"
      },
      "source": [
        "#Alternate Solution\n",
        "lower_bound=int(input(\"Please enter the lower bound:\"))\n",
        "upper_bound=int(input(\"Please enter the upper bound:\"))\n",
        "for i in range(lower_bound,upper_bound+1):\n",
        "    if ((i%4==0 and i%100!=0) or (i%400==0)):\n",
        "        print(i)"
      ],
      "execution_count": null,
      "outputs": [
        {
          "output_type": "stream",
          "name": "stdout",
          "text": [
            "Please enter the lower bound:1980\n",
            "Please enter the upper bound:2021\n",
            "1980\n",
            "1984\n",
            "1988\n",
            "1992\n",
            "1996\n",
            "2000\n",
            "2004\n",
            "2008\n",
            "2012\n",
            "2016\n",
            "2020\n"
          ]
        }
      ]
    },
    {
      "cell_type": "markdown",
      "metadata": {
        "id": "ufdP5oiZJNrL"
      },
      "source": [
        "#Problem 8\n",
        "Imagine you are tossing a coin. If you get heads, you get 50 bucks and get to toss the coin again. If you get tails, you get 20 bucks. If you get heads five times in a row, you lose your turn and do not get any money at all. Print the amount of money you get after your turn. \n",
        "\n",
        "Sample input 1: \n",
        "\n",
        "Tails\n",
        "\n",
        "Output: \n",
        "\n",
        "20\n",
        "\n",
        "Sample input 2: \n",
        "\n",
        "Heads\n",
        "\n",
        "Tails\n",
        "\n",
        "Output: \n",
        "\n",
        "70\n",
        "\n",
        "Sample input 3: \n",
        "\n",
        "Heads\n",
        "\n",
        "Heads\n",
        "\n",
        "Heads\n",
        "\n",
        "Heads\n",
        "\n",
        "Heads\n",
        "\n",
        "Output: \n",
        "\n",
        "0\n"
      ]
    },
    {
      "cell_type": "code",
      "metadata": {
        "colab": {
          "base_uri": "https://localhost:8080/"
        },
        "id": "fCcOIoRuJlDd",
        "outputId": "5a42db86-b079-4fde-b3cf-1c21b9206e73"
      },
      "source": [
        "coin= input(\"Heads or Tails?\").lower()\n",
        "money=0\n",
        "count=1\n",
        "\n",
        "if (coin==\"heads\"):\n",
        "  \n",
        "  while(coin==\"heads\"):\n",
        "    if (count==3):\n",
        "      money=0\n",
        "      break;\n",
        "    count+=1\n",
        "    money+=50\n",
        "    coin= input(\"Heads or Tails?\")\n",
        "    if (coin!=\"heads\"):\n",
        "      money+=20\n",
        "      break\n",
        "else:\n",
        "  money+=20\n",
        "\n",
        "print(money)"
      ],
      "execution_count": null,
      "outputs": [
        {
          "output_type": "stream",
          "name": "stdout",
          "text": [
            "Heads or Tails?Tails\n",
            "20\n"
          ]
        }
      ]
    },
    {
      "cell_type": "code",
      "metadata": {
        "colab": {
          "base_uri": "https://localhost:8080/"
        },
        "id": "_a_3TbdILC-B",
        "outputId": "aa49c77e-d753-4477-bd41-1bb3b164a0ee"
      },
      "source": [
        "coin= input()\n",
        "money=0\n",
        "count=1\n",
        "\n",
        "if (coin==\"Heads\"):\n",
        "  coin= input()\n",
        "\n",
        "  if(coin==\"Heads\"):\n",
        "    coin= input()\n",
        "\n",
        "    if(coin==\"Heads\"):\n",
        "      money=0;\n",
        "    else:\n",
        "      money=50+50+20\n",
        "  else:\n",
        "    money= 50+20\n",
        "else:\n",
        "  money= 20\n",
        "\n",
        "print(money)"
      ],
      "execution_count": null,
      "outputs": [
        {
          "output_type": "stream",
          "name": "stdout",
          "text": [
            "Heads\n",
            "Tails\n",
            "70\n"
          ]
        }
      ]
    },
    {
      "cell_type": "code",
      "metadata": {
        "colab": {
          "base_uri": "https://localhost:8080/"
        },
        "id": "bnXvbb3wjc62",
        "outputId": "aebc0b21-902f-4f5e-c797-fbc6b815b54d"
      },
      "source": [
        "count=0\n",
        "sum=20\n",
        "while count<=4:\n",
        "  i= input(\"Head/Tail:\")\n",
        "  if i!=\"H\":\n",
        "    break\n",
        "  count+=1\n",
        "j=count*50\n",
        "if count==5:\n",
        "  j=-20\n",
        "sum+=j\n",
        "print(\"You get\",sum,\"bucks\")"
      ],
      "execution_count": null,
      "outputs": [
        {
          "output_type": "stream",
          "name": "stdout",
          "text": [
            "Head/Tail:H\n",
            "Head/Tail:H\n",
            "Head/Tail:H\n",
            "Head/Tail:H\n",
            "Head/Tail:H\n",
            "You get 0 bucks\n"
          ]
        }
      ]
    },
    {
      "cell_type": "markdown",
      "metadata": {
        "id": "1hXjO5UjQiwy"
      },
      "source": [
        "#Problem 9\n",
        "Imagine you are playing a game with your friend which is quite similar to ludo. The player who crosses throughout the board of exactly 25 boxes wins. Each of you gets to roll the dice and can get from 1-6.  If a player crosses 24 boxes, he/she has to get exactly 1 after rolling the dice in order to win. Otherwise he/she will stay in the same place. The one who gets to the 25th box first will win. Until a winner is decided, the dice will be rolled between the players and the game will continue.\n",
        "\n",
        "Sample Input 1:\n",
        "Player 1: 6\n",
        "\n",
        "Player 2: 4\n",
        "\n",
        "Player 1: 5\n",
        "\n",
        "Player 2: 5\n",
        "\n",
        "Player 1: 6\n",
        "\n",
        "Player 2: 4\n",
        "\n",
        "Player 1: 4\n",
        "\n",
        "Player 2: 6\n",
        "\n",
        "Player 1: 3\n",
        "\n",
        "Player 2: 6\n",
        "\n",
        "Sample Output: Player 2 wins\n",
        "\n",
        "Sample Input 2:\n",
        "\n",
        "Player 1: 6\n",
        "\n",
        "Player 2: 3\n",
        "\n",
        "Player 1: 6\n",
        "\n",
        "Player 2: 2\n",
        "\n",
        "Player 1: 6\n",
        "\n",
        "Player 2: 6\n",
        "\n",
        "Player 1: 5\n",
        "\n",
        "Player 2: 6\n",
        "\n",
        "Player 1: 3\n",
        "\n",
        "Player 2: 4\n",
        "\n",
        "Player 1: 5\n",
        "\n",
        "Player 2: 5\n",
        "\n",
        "Player 1: 1\n",
        "\n",
        "Player 2: 6\n",
        "\n",
        "Player 1: 3\n",
        "\n",
        "Player 2: 2\n",
        "\n",
        "Player 1: 1\n",
        "\n",
        "Sample Output: Player 1 wins\n"
      ]
    },
    {
      "cell_type": "code",
      "metadata": {
        "colab": {
          "base_uri": "https://localhost:8080/"
        },
        "id": "YYLH3mM5SE2C",
        "outputId": "378420f5-9932-449c-b7dd-6f9f780921b5"
      },
      "source": [
        "p1=0\n",
        "p2=0\n",
        "\n",
        "while (True):\n",
        "\n",
        "  dice= int(input(\"Player 1: \"))\n",
        "  if (p1+dice <= 25):\n",
        "    p1+=dice\n",
        "  \n",
        "  if (p1==25):\n",
        "    print(\"Player 1 wins\")\n",
        "    break;\n",
        "  \n",
        "  dice= int(input(\"Player 2: \"))\n",
        "  if (p2+dice <= 25):\n",
        "    p2+=dice\n",
        "\n",
        "  if (p2==25):\n",
        "    print(\"Player 2 wins\")\n",
        "    break;\n",
        "  "
      ],
      "execution_count": null,
      "outputs": [
        {
          "output_type": "stream",
          "name": "stdout",
          "text": [
            "Player 1: 12\n",
            "Player 2: 13\n",
            "Player 1: 12\n",
            "Player 2: 12\n",
            "Player 2 wins\n"
          ]
        }
      ]
    },
    {
      "cell_type": "markdown",
      "metadata": {
        "id": "gbfmkWB8UHOT"
      },
      "source": [
        "#Problem 10\n",
        "Imagine you are playing a game with your friend which is quite similar to ludo. The player who crosses throughout the board of 25 boxes wins. Each of you gets to roll the dice and can get from 1-6.  If both players converge on the same box, the player’s avatar coming to this box previously will get eaten and the player will lose. There are certain checkboxes in the board where the avatars cannot be eaten. The checkpoints are: 10th and 20th.  Until a player’s avatar gets eaten or he/she crosses the 25th box, the dice will be rolled between the players and the game will continue.\n",
        "\n",
        "Sample Input 1:\n",
        "\n",
        "Player 1: 6\n",
        "\n",
        "Player 2: 4\n",
        "\n",
        "Player 1: 3\n",
        "\n",
        "Player 2: 5\n",
        "\n",
        "Sample Output: Player 1 died, Player 2 wins\n",
        "\n",
        "Sample Input 2:\n",
        "\n",
        "Player 1: 2\n",
        "\n",
        "Player 2: 3\n",
        "\n",
        "Player 1: 1\n",
        "\n",
        "Sample Output: Player 2 died, Player 1 wins\n",
        "\n",
        "Sample Input 3:\n",
        "\n",
        "Player 1: 5\n",
        "\n",
        "Player 2: 4\n",
        "\n",
        "Player 1: 5\n",
        "\n",
        "Player 2: 6\n",
        "\n",
        "Player 1: 6\n",
        "\n",
        "Player 2: 3\n",
        "\n",
        "Player 1: 4\n",
        "\n",
        "Player 2: 3\n",
        "\n",
        "Player 1: 6\n",
        "\n",
        "Sample Output: Player 1 wins"
      ]
    },
    {
      "cell_type": "code",
      "metadata": {
        "colab": {
          "base_uri": "https://localhost:8080/"
        },
        "id": "XR09AzM_Uash",
        "outputId": "104f4d17-179b-4dcc-db2c-ab5690a9a181"
      },
      "source": [
        "p1=0\n",
        "p2=0\n",
        "\n",
        "while (True):\n",
        "\n",
        "  dice= int(input(\"Player 1: \"))\n",
        "  p1+=dice\n",
        "  if (p1==p2):\n",
        "    if (p1!=10 and p1!=20):\n",
        "      print(\"Player 1 wins\")\n",
        "      break;\n",
        "  \n",
        "  if (p1>=25):\n",
        "    print(\"Player 1 wins\")\n",
        "    break;\n",
        "  \n",
        "  dice= int(input(\"Player 2: \"))\n",
        "  p2+= dice\n",
        "  if (p1==p2):\n",
        "    if (p1!=10 and p1!=20):\n",
        "      print(\"Player 2 wins\")\n",
        "      break;\n",
        "\n",
        "  if (p2>=25):\n",
        "    print(\"Player 2 wins\")\n",
        "    break;\n",
        "  "
      ],
      "execution_count": null,
      "outputs": [
        {
          "output_type": "stream",
          "name": "stdout",
          "text": [
            "Player 1: 5\n",
            "Player 2: 6\n",
            "Player 1: 5\n",
            "Player 2: 4\n",
            "Player 1: 5\n",
            "Player 2: 4\n",
            "Player 1: 5\n",
            "Player 2: 6\n",
            "Player 1: 1\n",
            "Player 2: 1\n",
            "Player 2 wins\n"
          ]
        }
      ]
    },
    {
      "cell_type": "markdown",
      "metadata": {
        "id": "oPn9FW0YVtr_"
      },
      "source": [
        "#Problem 11\n",
        "Imagine you are trying to draw a shape. So you are taking the lengths of each of the sides of the shape. Now, what shape you need to draw depends on the first input (1-4).\n",
        "\n",
        "a.\tIf No of sides: 1 or 2, a line needs to be drawn\n",
        "\n",
        "b.\tIf No of sides: 3, a triangle needs to be drawn\n",
        "\n",
        "c.\tIf No of sides: 4, a rectangle needs to be drawn\n",
        "\n",
        "d.\tFor any other input for No of angles, print “Invalid input”\n",
        "\n",
        "After deciding what your shape will be, your job is to verify whether the shape can be drawn using the lengths given by the user. To draw a triangle, the sum of the lengths of any two sides must be greater than the third. To draw a rectangle, the sum of the lengths of any three sides must be greater than the fourth. To draw a line, no verification is required.\n",
        "\n",
        "Sample Input 1:\n",
        "\n",
        "No of sides: 1\n",
        "\n",
        "Sample Output: \n",
        "\n",
        "A line can be drawn\n",
        "\n",
        "Sample Input 2:\n",
        "\n",
        "No of sides: 2\n",
        "\n",
        "Sample Output: \n",
        "\n",
        "A line can be drawn\n",
        "\n",
        "Sample Input 3:\n",
        "\n",
        "No of sides: 3\n",
        "\n",
        "Length of sides:\n",
        "\n",
        "2\n",
        "\n",
        "3\n",
        "\n",
        "1\n",
        "\n",
        "Sample Output: \n",
        "\n",
        "Invalid input\n",
        "\n",
        "Sample Input 4:\n",
        "\n",
        "No of sides: 3\n",
        "\n",
        "Length of sides:\n",
        "\n",
        "2\n",
        "\n",
        "3\n",
        "\n",
        "2\n",
        "\n",
        "Sample Output: \n",
        "\n",
        "A triangle can be drawn\n",
        "\n",
        "Sample Input 5:\n",
        "\n",
        "No of sides: 4\n",
        "\n",
        "Length of sides:\n",
        "\n",
        "2\n",
        "\n",
        "3\n",
        "\n",
        "1\n",
        "\n",
        "4\n",
        "\n",
        "Sample Output: \n",
        "\n",
        "A rectangle can be drawn\n",
        "\n",
        "Sample Input 5:\n",
        "\n",
        "No of sides: 4\n",
        "\n",
        "Length of sides:\n",
        "\n",
        "2\n",
        "\n",
        "3\n",
        "\n",
        "1\n",
        "\n",
        "7\n",
        "\n",
        "Sample Output: \n",
        "\n",
        "Invalid input\n"
      ]
    },
    {
      "cell_type": "code",
      "metadata": {
        "colab": {
          "base_uri": "https://localhost:8080/"
        },
        "id": "tonpb7LxWExb",
        "outputId": "5ce65e2c-3c03-44cd-a162-9d0cd40f4191"
      },
      "source": [
        "shape= int(input(\"Line(1/2) or Traingle (3) or Rectangle(4)\"))\n",
        "\n",
        "if (shape==1 or shape==2):\n",
        "  print(\"A line can be drawn\")\n",
        "\n",
        "elif (shape==3):\n",
        "  a= int(input())\n",
        "  b= int(input())\n",
        "  c= int(input())\n",
        "  if (a+b>c and b+c>a and a+c>b):\n",
        "    print(\"A triangle can be drawn\")\n",
        "  else:\n",
        "    print(\"Invalid Input\")\n",
        "\n",
        "elif (shape==4):\n",
        "  a= int(input())\n",
        "  b= int(input())\n",
        "  c= int(input())\n",
        "  d= int(input())\n",
        "\n",
        "  if (a+b+c>d and b+c+d>a and c+d+a>b and d+a+b>c):\n",
        "    print(\"A rectangle can be drawn\")\n",
        "  else:\n",
        "    print(\"Invalid Input\")\n",
        "\n",
        "else:\n",
        "  print(\"Invalid Input\")"
      ],
      "execution_count": null,
      "outputs": [
        {
          "output_type": "stream",
          "name": "stdout",
          "text": [
            "Line(1/2) or Traingle (3) or Rectangle(4)4\n",
            "1\n",
            "1\n",
            "2\n",
            "5\n",
            "Invalid Input\n"
          ]
        }
      ]
    },
    {
      "cell_type": "markdown",
      "metadata": {
        "id": "NxEmWo5i3n5P"
      },
      "source": [
        "#Problem 11\n",
        "Imagine you are trying to draw a shape. So you are taking the angles of the shape. Now, what shape you need to draw depends on the first input (3 or 4).\n",
        "\n",
        "a.\tIf No of angles: 3, a triangle needs to be drawn\n",
        "\n",
        "b.\tIf No of angles: 4, a rectangle needs to be drawn\n",
        "\n",
        "c.\tFor any other input for No of angles, print “Invalid input”\n",
        "\n",
        "After deciding what your shape will be, your job is to verify whether the shape can be drawn using the angles given by the user. To draw a triangle, the sum of the angles must be equal to 180 degrees. To draw a rectangle, the sum of the angles must be equal to 360 degrees. \n",
        "\n",
        "Sample Input 1:\n",
        "\n",
        "No of angles: 1\n",
        "\n",
        "Sample Output: \n",
        "\n",
        "Invalid input\n",
        "\n",
        "Sample Input 2:\n",
        "\n",
        "No of angles: 2\n",
        "\n",
        "Sample Output: \n",
        "\n",
        "Invalid input\n",
        "\n",
        "Sample Input 3:\n",
        "\n",
        "No of angles: 3\n",
        "\n",
        "Angles:\n",
        "\n",
        "60\n",
        "\n",
        "90\n",
        "\n",
        "50\n",
        "\n",
        "Sample Output: \n",
        "\n",
        "Invalid input\n",
        "\n",
        "Sample Input 4:\n",
        "\n",
        "No of sides: 3\n",
        "\n",
        "Angles:\n",
        "\n",
        "60\n",
        "\n",
        "90\n",
        "\n",
        "30\n",
        "\n",
        "Sample Output: \n",
        "\n",
        "A triangle can be drawn\n",
        "\n",
        "Sample Input 5:\n",
        "\n",
        "No of sides: 4\n",
        "\n",
        "Angles:\n",
        "\n",
        "60\n",
        "\n",
        "80\n",
        "\n",
        "70\n",
        "\n",
        "150\n",
        "\n",
        "Sample Output: \n",
        "\n",
        "A rectangle can be drawn\n",
        "\n",
        "Sample Input 5:\n",
        "\n",
        "No of sides: 4\n",
        "\n",
        "Angles:\n",
        "\n",
        "60\n",
        "\n",
        "80\n",
        "\n",
        "70\n",
        "\n",
        "130\n",
        "\n",
        "Sample Output: \n",
        "\n",
        "Invalid input"
      ]
    },
    {
      "cell_type": "code",
      "metadata": {
        "colab": {
          "base_uri": "https://localhost:8080/"
        },
        "id": "vpnbcNo535wS",
        "outputId": "74f8eec2-beda-47ec-a97b-958e7c8b4cea"
      },
      "source": [
        "shape= int(input(\"Traingle (3) or Rectangle(4)\"))\n",
        "\n",
        "if (shape==3):\n",
        "  a= int(input())\n",
        "  b= int(input())\n",
        "  c= int(input())\n",
        "  if (a+b+c==180):\n",
        "    print(\"A triangle can be drawn\")\n",
        "  else:7\n",
        "    print(\"Invalid Input\")\n",
        "\n",
        "elif (shape==4):\n",
        "  a= int(input())\n",
        "  b= int(input())\n",
        "  c= int(input())\n",
        "  d= int(input())\n",
        "\n",
        "  if (a+b+c+d==360):\n",
        "    print(\"A rectangle can be drawn\")\n",
        "  else:\n",
        "    print(\"Invalid Input\")\n",
        "\n",
        "else:\n",
        "  print(\"Invalid Input\")"
      ],
      "execution_count": null,
      "outputs": [
        {
          "output_type": "stream",
          "name": "stdout",
          "text": [
            "Traingle (3) or Rectangle(4)3\n",
            "60\n",
            "50\n",
            "70\n",
            "A triangle can be drawn\n"
          ]
        }
      ]
    },
    {
      "cell_type": "markdown",
      "metadata": {
        "id": "5DUaWtjd-5lr"
      },
      "source": [
        "#Problem 13\n",
        "Write a Python program that takes an odd number from the user and generates the following pattern.\n",
        "\n",
        "Sample Input1:  \n",
        "5\n",
        "\n",
        "Sample Output1:\n",
        "\n",
        "10301\n",
        "\n",
        "00300\n",
        "\n",
        "33333\n",
        "\n",
        "00300\n",
        "\n",
        "50305\n",
        "\n",
        "\n",
        "\n",
        "Sample Input2:  \n",
        "7\n",
        "\n",
        "Sample Output2:\n",
        "\n",
        "1004001\n",
        "\n",
        "0004000\n",
        "\n",
        "0004000\n",
        "\n",
        "4444444\n",
        "\n",
        "0004000\n",
        "\n",
        "0004000\n",
        "\n",
        "7004007\n",
        "\n",
        "Sample Input2:  \n",
        "3\n",
        "\n",
        "Sample Output2:\n",
        "\n",
        "121\n",
        "\n",
        "222\n",
        "\n",
        "323\n",
        "\n",
        "\n",
        "Sample Input3:  \n",
        "1\n",
        "\n",
        "Sample Output3:\n",
        "\n",
        "1\n"
      ]
    },
    {
      "cell_type": "code",
      "metadata": {
        "colab": {
          "base_uri": "https://localhost:8080/"
        },
        "id": "Qi4IevPhAhes",
        "outputId": "cd8564c7-308d-4a67-84e7-8727d0358b53"
      },
      "source": [
        "num = int(input())\n",
        "\n",
        "for i in range (1, num+1,1):\n",
        "\n",
        "  for j in range (1, num+1,1):\n",
        "    if(j==num//2+1):\n",
        "      print(num//2+1,end=\"\")\n",
        "    elif(num%2==0 and i==num//2):\n",
        "      print(num//2,end=\"\")\n",
        "    elif(num%2==1 and i==num//2+1):\n",
        "      print(num//2+1,end=\"\")\n",
        "    elif (i==1 and j==1):\n",
        "      print(i,end=\"\")\n",
        "    elif (i==1 and j==num):\n",
        "      print(i,end=\"\")\n",
        "    elif (i==num and j==1):\n",
        "      print(i,end=\"\")\n",
        "    elif (i==num and j==num):\n",
        "      print(i,end=\"\")\n",
        "    else:\n",
        "      print(0,end=\"\")\n",
        "  \n",
        "  print()"
      ],
      "execution_count": null,
      "outputs": [
        {
          "output_type": "stream",
          "name": "stdout",
          "text": [
            "9\n",
            "100050001\n",
            "000050000\n",
            "000050000\n",
            "000050000\n",
            "555555555\n",
            "000050000\n",
            "000050000\n",
            "000050000\n",
            "900050009\n"
          ]
        }
      ]
    },
    {
      "cell_type": "code",
      "metadata": {
        "colab": {
          "base_uri": "https://localhost:8080/"
        },
        "id": "_TQDJsb_nAPl",
        "outputId": "25a6df3e-db58-4bc4-87fe-cff62f6f7c29"
      },
      "source": [
        "num= int(input())\n",
        "\n",
        "for x in range (1, num+1,1):\n",
        "\n",
        "  for y in range (1, num+1, 1):\n",
        "    if(x==1 and y==1):\n",
        "      print(x, end=\"\")\n",
        "    elif(x==1 and y==num):\n",
        "      print(x, end=\"\")\n",
        "    elif(x==num and y==1):\n",
        "      print(x, end=\"\")\n",
        "    elif(x==num and y==num):\n",
        "      print(x, end=\"\")\n",
        "    elif(y==num//2+1):\n",
        "      print(num//2, end=\"\")\n",
        "    elif(x==num//2+1):\n",
        "      print(num//2, end=\"\")\n",
        "    else:  \n",
        "      print(0, end=\"\")\n",
        "  print()\n"
      ],
      "execution_count": null,
      "outputs": [
        {
          "output_type": "stream",
          "name": "stdout",
          "text": [
            "1\n",
            "1\n"
          ]
        }
      ]
    },
    {
      "cell_type": "markdown",
      "metadata": {
        "id": "Uh-lKSlhpl6i"
      },
      "source": [
        "#Problem 14\n",
        "Write a Python program that takes an odd number from the user and generates the following pattern.\n",
        "\n",
        "Sample Input1:  \n",
        "5\n",
        "\n",
        "Sample Output1:\n",
        "\n",
        "10001\n",
        "\n",
        "02000\n",
        "\n",
        "00300\n",
        "\n",
        "00040\n",
        "\n",
        "10001\n",
        "\n",
        "\n",
        "Sample Input2:  \n",
        "7\n",
        "\n",
        "Sample Output2:\n",
        "\n",
        "1000001\n",
        "\n",
        "0200000\n",
        "\n",
        "0030000\n",
        "\n",
        "0004000\n",
        "\n",
        "0000500\n",
        "\n",
        "0000060\n",
        "\n",
        "7000007\n"
      ]
    }
  ]
}