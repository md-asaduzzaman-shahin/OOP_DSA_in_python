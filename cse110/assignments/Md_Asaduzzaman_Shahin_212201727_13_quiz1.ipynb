{
  "nbformat": 4,
  "nbformat_minor": 0,
  "metadata": {
    "colab": {
      "name": "Md Asaduzzaman Shahin_212201727_13 .ipynb",
      "provenance": []
    },
    "kernelspec": {
      "name": "python3",
      "display_name": "Python 3"
    },
    "language_info": {
      "name": "python"
    }
  },
  "cells": [
    {
      "cell_type": "code",
      "metadata": {
        "colab": {
          "base_uri": "https://localhost:8080/"
        },
        "id": "fVckcdnCZ94l",
        "outputId": "4adadbe0-d2b9-4245-9cdf-b51e513eb7ad"
      },
      "source": [
        "num= int(input(\"Enter a number\"))\n",
        "for x in range(1,num+1,1):\n",
        "\n",
        "  for y in range(1,num+1,1):\n",
        "    if(x%2==0):\n",
        "      print(\"#\", end=\"\")\n",
        "    if(x%2!=0):\n",
        "      print(x, end=\"\")\n",
        "      \n",
        "    #else:\n",
        "      #print(x, end=\"\")\n",
        "\n",
        "  print()\n",
        "    "
      ],
      "execution_count": 16,
      "outputs": [
        {
          "output_type": "stream",
          "name": "stdout",
          "text": [
            "Enter a number7\n",
            "1111111\n",
            "#######\n",
            "3333333\n",
            "#######\n",
            "5555555\n",
            "#######\n",
            "7777777\n"
          ]
        }
      ]
    }
  ]
}